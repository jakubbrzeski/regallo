{
 "cells": [
  {
   "cell_type": "code",
   "execution_count": 13,
   "metadata": {
    "collapsed": false
   },
   "outputs": [],
   "source": [
    "import json\n",
    "import cfg\n",
    "import utils\n",
    "import lscan\n",
    "import cost\n",
    "import phi\n",
    "from cfgprinter import FunctionPrinter, IntervalsPrinter, CostPrinter, PrintOptions as Opts\n",
    "%matplotlib inline\n",
    "\n",
    "with open(\"gcd.json\") as f:\n",
    "    cfg_dict = json.load(f)\n",
    "\n",
    "f = cfg.Function.from_json(cfg_dict[0])"
   ]
  },
  {
   "cell_type": "markdown",
   "metadata": {},
   "source": [
    "# Introduction\n",
    "We read the function description in json and load it into a python class.\n",
    "After that we perform all the analysis necessary for register allocation.\n",
    "It is: computing liveness sets, dominance sets and loop nesting forest."
   ]
  },
  {
   "cell_type": "markdown",
   "metadata": {},
   "source": [
    "### Liveness analysis\n",
    "We use a simple round-robin algorithm for computing liveness sets, described e.g. in *[1] (Cooper, Torczon) 9.2.2 Live-Variable Analysis 482-490*. <br>\n",
    "\n",
    "However, because the program is in SSA form, we need to apply some modification relating to phi functions. We treat\n",
    "the variables used in phi functions in some basic block as **live-out** in the corresponding predecessor but NOT **live-in** at this basic block. <br>\n",
    "\n",
    "It makes sense because after PHI elimination, these particular uses of variables will be situated at the end of the predecessor block. It is also helpful during intervals building in linear scan register allocation. If, for example, variable is defined in a loop and referenced in the phi function at the loop header, we would have to extend its lifetime interval throughout the whole loop if it was live-in at this header."
   ]
  },
  {
   "cell_type": "markdown",
   "metadata": {},
   "source": [
    "### Control flow graph\n",
    "Let's see how the GCD function looks like. <br>\n",
    "\n",
    "Variables (i.e. all the values used by instructions that are subject to register allocation) are colored on a yellow color. All the remaining values such as labels or constants are black. In each basic block, below the instruction listing, we can print out all the sets computed in the analysis phase. <br>\n",
    "<ul>\n",
    "<li> PREDS: list of predecessor blocks.</li>\n",
    "<li> SUCCS: list of successor blocks.</li>\n",
    "<li> UEVS: upward-exposed variables (used before any redefinition in the current basic block.) </li>\n",
    "<li> DEFS: variables defined in the current basic block. </li>\n",
    "<li> LIVE-IN: variables live at the entrance to basic block. </li>\n",
    "<li> LIVE-OUT: variables live at the exit from this basic block. </li>\n",
    "<li> DOM: basic blocks that dominates the current block. </li>\n",
    "</ul>"
   ]
  },
  {
   "cell_type": "code",
   "execution_count": 14,
   "metadata": {
    "collapsed": false
   },
   "outputs": [
    {
     "name": "stdout",
     "output_type": "stream",
     "text": [
      "\u001b[4mbb1(entry)\u001b[0m\n",
      "   > \u001b[1m\u001b[33mv1\u001b[0m = \u001b[31micmp\u001b[0m \u001b[1m\u001b[33mv2\u001b[0m \u001b[1m\u001b[33mv3\u001b[0m \n",
      "   > \u001b[1m\u001b[33mv4\u001b[0m = \u001b[31mbr\u001b[0m \u001b[1m\u001b[33mv1\u001b[0m bb3 bb2 \n",
      "\n",
      "     PREDS: []\n",
      "     SUCCS: [bb3, bb2]\n",
      "      UEVS: [v2, v3]\n",
      "      DEFS: [v1, v4]\n",
      "   LIVE-IN: [v2, v3]\n",
      "  LIVE-OUT: [v2, v3]\n",
      "       DOM: [bb1]\n",
      "\n",
      "\u001b[4mbb2(if.then)\u001b[0m\n",
      "   > \u001b[1m\u001b[33mv5\u001b[0m = \u001b[31mxor\u001b[0m \u001b[1m\u001b[33mv2\u001b[0m \u001b[1m\u001b[33mv3\u001b[0m \n",
      "   > \u001b[1m\u001b[33mv6\u001b[0m = \u001b[31mxor\u001b[0m \u001b[1m\u001b[33mv3\u001b[0m \u001b[1m\u001b[33mv5\u001b[0m \n",
      "   > \u001b[1m\u001b[33mv7\u001b[0m = \u001b[31mxor\u001b[0m \u001b[1m\u001b[33mv5\u001b[0m \u001b[1m\u001b[33mv6\u001b[0m \n",
      "   > \u001b[1m\u001b[33mv8\u001b[0m = \u001b[31mbr\u001b[0m bb3                 \n",
      "\n",
      "     PREDS: [bb1]\n",
      "     SUCCS: [bb3]\n",
      "      UEVS: [v2, v3]\n",
      "      DEFS: [v8, v5, v6, v7]\n",
      "   LIVE-IN: [v2, v3]\n",
      "  LIVE-OUT: [v6, v7]\n",
      "       DOM: [bb1, bb2]\n",
      "\n",
      "\u001b[4mbb3(if.end)\u001b[0m\n",
      "   > \u001b[1m\u001b[33mv9\u001b[0m = \u001b[31mphi\u001b[0m bb2 -> \u001b[33mv6\u001b[0m bb1 -> \u001b[33mv3\u001b[0m \n",
      "   > \u001b[1m\u001b[33mv10\u001b[0m = \u001b[31mphi\u001b[0m bb2 -> \u001b[33mv7\u001b[0m bb1 -> \u001b[33mv2\u001b[0m \n",
      "   > \u001b[1m\u001b[33mv11\u001b[0m = \u001b[31mbr\u001b[0m bb4                 \n",
      "\n",
      "     PREDS: [bb2, bb1]\n",
      "     SUCCS: [bb4]\n",
      "      UEVS: []\n",
      "      DEFS: [v9, v10, v11]\n",
      "   LIVE-IN: []\n",
      "  LIVE-OUT: [v9, v10]\n",
      "       DOM: [bb1, bb3]\n",
      "\n",
      "\u001b[4mbb4(while.cond)\u001b[0m\n",
      "   > \u001b[1m\u001b[33mv12\u001b[0m = \u001b[31mphi\u001b[0m bb3 -> \u001b[33mv9\u001b[0m bb5 -> \u001b[33mv13\u001b[0m \n",
      "   > \u001b[1m\u001b[33mv14\u001b[0m = \u001b[31mphi\u001b[0m bb3 -> \u001b[33mv10\u001b[0m bb5 -> \u001b[33mv12\u001b[0m \n",
      "   > \u001b[1m\u001b[33mv15\u001b[0m = \u001b[31micmp\u001b[0m \u001b[1m\u001b[33mv12\u001b[0m const \n",
      "   > \u001b[1m\u001b[33mv16\u001b[0m = \u001b[31mbr\u001b[0m \u001b[1m\u001b[33mv15\u001b[0m bb6 bb5 \n",
      "\n",
      "     PREDS: [bb5, bb3]\n",
      "     SUCCS: [bb6, bb5]\n",
      "      UEVS: []\n",
      "      DEFS: [v16, v12, v14, v15]\n",
      "   LIVE-IN: []\n",
      "  LIVE-OUT: [v12, v14]\n",
      "       DOM: [bb1, bb3, bb4]\n",
      "\n",
      "\u001b[4mbb5(while.body)\u001b[0m\n",
      "   > \u001b[1m\u001b[33mv13\u001b[0m = \u001b[31msrem\u001b[0m \u001b[1m\u001b[33mv14\u001b[0m \u001b[1m\u001b[33mv12\u001b[0m \n",
      "   > \u001b[1m\u001b[33mv17\u001b[0m = \u001b[31mbr\u001b[0m bb4                 \n",
      "\n",
      "     PREDS: [bb4]\n",
      "     SUCCS: [bb4]\n",
      "      UEVS: [v12, v14]\n",
      "      DEFS: [v17, v13]\n",
      "   LIVE-IN: [v12, v14]\n",
      "  LIVE-OUT: [v12, v13]\n",
      "       DOM: [bb1, bb3, bb4, bb5]\n",
      "\n",
      "\u001b[4mbb6(while.end)\u001b[0m\n",
      "   > \u001b[1m\u001b[33mv18\u001b[0m = \u001b[31mret\u001b[0m \u001b[1m\u001b[33mv14\u001b[0m    \n",
      "\n",
      "     PREDS: [bb4]\n",
      "     SUCCS: []\n",
      "      UEVS: [v14]\n",
      "      DEFS: [v18]\n",
      "   LIVE-IN: [v14]\n",
      "  LIVE-OUT: []\n",
      "       DOM: [bb1, bb3, bb4, bb6]\n",
      "\n",
      "\n"
     ]
    }
   ],
   "source": [
    "f.perform_full_analysis()\n",
    "\n",
    "print FunctionPrinter(f, Opts(predecessors=True, successors=True,\n",
    "        uevs_defs=True, liveness=True, dominance=True, intervals_verbose=True,\n",
    "        show_spilled=True))"
   ]
  },
  {
   "cell_type": "markdown",
   "metadata": {},
   "source": [
    "# Linear scan register allocation.\n",
    "We show how one can run the basic linear register allocation and how it works. <br>\n",
    "\n",
    "### CFG linearization\n",
    "The linear scan algorithm operates on linear (flattened) form of the program. On default, it is the\n",
    "lis of basic blocks sorted in a reverse postorder. This order guarantees that all the dominators of a\n",
    "basic block are before this basic block in the list.\n",
    "\n",
    "### Intervals building\n",
    "The second stage of linear scan algorithm is bulding lifetime intervals. In a most basic form, a lifetime\n",
    "interval of a variable is a connected segment of instruction where the variable can be live (usually from the definition to the last use of the variable in the program). <br>\n",
    "\n",
    "Below we build and list the intervals of variables in our gcd function cfg. *REG* column stays empty waiting for register allocation to fill it in. "
   ]
  },
  {
   "cell_type": "code",
   "execution_count": 15,
   "metadata": {
    "collapsed": false
   },
   "outputs": [
    {
     "name": "stdout",
     "output_type": "stream",
     "text": [
      "INTERVAL   VAR-ID     REG  \n",
      "[0, 1]     v1          -   \n",
      "[0, 2]     v2          -   \n",
      "[0, 3]     v3          -   \n",
      "[2, 4]     v5          -   \n",
      "[3, 5]     v6          -   \n",
      "[4, 5]     v7          -   \n",
      "[6, 8]     v9          -   \n",
      "[7, 8]     v10         -   \n",
      "[9, 14]    v12         -   \n",
      "[10, 15]   v14         -   \n",
      "[11, 12]   v15         -   \n",
      "[13, 14]   v13         -   \n",
      "\n",
      "\n"
     ]
    },
    {
     "data": {
      "image/png": "[encoded data removed]",
      "text/plain": [
       "<matplotlib.figure.Figure at 0x1096b45d0>"
      ]
     },
     "metadata": {},
     "output_type": "display_data"
    }
   ],
   "source": [
    "bls = lscan.BasicLinearScan(f)\n",
    "intervals = bls.compute_intervals()\n",
    "print IntervalsPrinter(intervals).full()\n",
    "utils.draw_intervals(intervals, figsize=(8,6))"
   ]
  },
  {
   "cell_type": "markdown",
   "metadata": {},
   "source": [
    "### Register allocation\n",
    "Linear scan allocator takes as input the intervals and number of free registers. It processes the intervals in the order of their left endpoints and tries to allocate a free register to each variable. If at the given moment there are no free registers, an interval is chosen for spilling. The spilling heuristics is one of the most important part of the allocation and in the simplest variant, from all *active* intervals, it chooses the one with the furthest end. <br><br>\n",
    "The variable whose interval was spilled is assigned a memory slot later and we need care about inserting a store instruction after its definition as well as load instructions before each use. <br>\n",
    "\n",
    "In the example below we try to allocate the variables only to 2 registers. As we can see, it finishes with two variables spilled to memory."
   ]
  },
  {
   "cell_type": "code",
   "execution_count": 16,
   "metadata": {
    "collapsed": false
   },
   "outputs": [
    {
     "name": "stdout",
     "output_type": "stream",
     "text": [
      "spill variable v3\n",
      "spill variable v14\n",
      "INTERVAL   VAR-ID     REG  \n",
      "[0, 1]     v1         reg2 \n",
      "[0, 2]     v2         reg1 \n",
      "[0, 3]     v3          -   \n",
      "[2, 4]     v5         reg2 \n",
      "[3, 5]     v6         reg1 \n",
      "[4, 5]     v7         reg2 \n",
      "[6, 8]     v9         reg1 \n",
      "[7, 8]     v10        reg2 \n",
      "[9, 14]    v12        reg1 \n",
      "[10, 15]   v14         -   \n",
      "[11, 12]   v15        reg2 \n",
      "[13, 14]   v13        reg2 \n",
      "\n",
      "\n"
     ]
    }
   ],
   "source": [
    "bls.allocate_registers(intervals, 2)\n",
    "print IntervalsPrinter(intervals).full()"
   ]
  },
  {
   "cell_type": "markdown",
   "metadata": {},
   "source": [
    "### Spill code insertion\n",
    "We already mentioned that we need to add store and load instructions in appropriate points of the program for all spilled variables. We do it at first for all instructions APART FROM phi instructions, with which we have to deal differently. <br>\n",
    "Here, we make a few important assumptions that make allocation a bit simpler and doesn't influence on final results.\n",
    "<ul>\n",
    "<li>All instructions apart from load and store operate on regisers.</li>\n",
    "<li>**Sratch registers**: If we load a spilled variable that is to be used in a following instruction, we still need to load it to some regiser. Because of that we assume that we always have two so-called sratch registers that serve just for that. It is a common strategy in register allocation and if we assume it for all the allocations we do, it will not influence the results. We don't distinguish these registers and call both **reg0**. So if two *reg0*s overlap somewhere - it is OK. </li>\n",
    "<li>Some of the variables (e.g. function arguments) are not defined in the function body. Nevertheless we still assume we can spill them.</li>\n",
    "</ul>\n",
    "\n",
    "### Translating out of SSA form (PHI elimination)\n",
    "We use algorithm from *[4] Hack: 4.4 Implementing Phi-Operations: 55-58* to translate the program out of SSA form.\n",
    "It boils down to inserting (definition, use) moves in a proper order and proper place in the CFG. We are not going to describe the algorithm again but there are a few points worth mentioning.\n",
    "<ul>\n",
    "<li>Sometimes it is necessary to add a new basic block.</li>\n",
    "<li>It may happen that we need to use temporary variables (and scratch registers) which don't break anything.</li>\n",
    "<li>If there is a move (def, use) which needs to be inserted but both variables reside in the same register or the same memory slot, we don't yield the move. </li>\n",
    "<li>Inserting new instructions and variables breaks the initially computed liveness sets, new instructions or variables lack also loop information. It means we have to do the full analysis again.</li>\n",
    "</ul>\n",
    "\n",
    "Below we can see a function listing after spill code insertion and phi elimination. There was a new basic block added (bb7). Moreover, there is no move between v12 and v9 because both were assigned the same register reg1. "
   ]
  },
  {
   "cell_type": "code",
   "execution_count": 17,
   "metadata": {
    "collapsed": false
   },
   "outputs": [
    {
     "name": "stdout",
     "output_type": "stream",
     "text": [
      "\u001b[4mbb1(entry)\u001b[0m\n",
      "  0: \u001b[34mreg0\u001b[0m = \u001b[31mload\u001b[0m \u001b[32mmem(v3)\u001b[0m    \n",
      "  1: \u001b[34mreg2\u001b[0m = \u001b[31micmp\u001b[0m \u001b[34mreg1\u001b[0m \u001b[34mreg0\u001b[0m \n",
      "  2: \u001b[1m\u001b[33mv4\u001b[0m = \u001b[31mbr\u001b[0m \u001b[34mreg2\u001b[0m bb3 bb2 \n",
      "\n",
      "\n",
      "\u001b[4mbb2(if.then)\u001b[0m\n",
      "  3: \u001b[34mreg0\u001b[0m = \u001b[31mload\u001b[0m \u001b[32mmem(v3)\u001b[0m    \n",
      "  4: \u001b[34mreg2\u001b[0m = \u001b[31mxor\u001b[0m \u001b[34mreg1\u001b[0m \u001b[34mreg0\u001b[0m \n",
      "  5: \u001b[34mreg0\u001b[0m = \u001b[31mload\u001b[0m \u001b[32mmem(v3)\u001b[0m    \n",
      "  6: \u001b[34mreg1\u001b[0m = \u001b[31mxor\u001b[0m \u001b[34mreg0\u001b[0m \u001b[34mreg2\u001b[0m \n",
      "  7: \u001b[34mreg2\u001b[0m = \u001b[31mxor\u001b[0m \u001b[34mreg2\u001b[0m \u001b[34mreg1\u001b[0m \n",
      "  8: \u001b[1m\u001b[33mv8\u001b[0m = \u001b[31mbr\u001b[0m bb3                 \n",
      "\n",
      "\n",
      "\u001b[4mbb7(None)\u001b[0m\n",
      "  9: \u001b[34mreg2\u001b[0m = \u001b[31mmov\u001b[0m \u001b[34mreg1\u001b[0m       \n",
      " 10: \u001b[34mreg1\u001b[0m = \u001b[31mload\u001b[0m \u001b[32mmem(v3)\u001b[0m    \n",
      "\n",
      "\n",
      "\u001b[4mbb3(if.end)\u001b[0m\n",
      " 11: \u001b[1m\u001b[33mv11\u001b[0m = \u001b[31mbr\u001b[0m bb4                 \n",
      " 12: \u001b[31mstore\u001b[0m \u001b[32mmem(v14)\u001b[0m \u001b[34mreg2\u001b[0m \n",
      "\n",
      "\n",
      "\u001b[4mbb4(while.cond)\u001b[0m\n",
      " 13: \u001b[34mreg2\u001b[0m = \u001b[31micmp\u001b[0m \u001b[34mreg1\u001b[0m const \n",
      " 14: \u001b[1m\u001b[33mv16\u001b[0m = \u001b[31mbr\u001b[0m \u001b[34mreg2\u001b[0m bb6 bb5 \n",
      "\n",
      "\n",
      "\u001b[4mbb5(while.body)\u001b[0m\n",
      " 15: \u001b[34mreg0\u001b[0m = \u001b[31mload\u001b[0m \u001b[32mmem(v14)\u001b[0m   \n",
      " 16: \u001b[34mreg2\u001b[0m = \u001b[31msrem\u001b[0m \u001b[34mreg0\u001b[0m \u001b[34mreg1\u001b[0m \n",
      " 17: \u001b[1m\u001b[33mv17\u001b[0m = \u001b[31mbr\u001b[0m bb4                 \n",
      " 18: \u001b[31mstore\u001b[0m \u001b[32mmem(v14)\u001b[0m \u001b[34mreg1\u001b[0m \n",
      " 19: \u001b[34mreg1\u001b[0m = \u001b[31mmov\u001b[0m \u001b[34mreg2\u001b[0m       \n",
      "\n",
      "\n",
      "\u001b[4mbb6(while.end)\u001b[0m\n",
      " 20: \u001b[34mreg0\u001b[0m = \u001b[31mload\u001b[0m \u001b[32mmem(v14)\u001b[0m   \n",
      " 21: \u001b[1m\u001b[33mv18\u001b[0m = \u001b[31mret\u001b[0m \u001b[34mreg0\u001b[0m       \n",
      "\n",
      "\n",
      "\n"
     ]
    }
   ],
   "source": [
    "bls.insert_spill_code(intervals)\n",
    "phi.eliminate_phi(f)\n",
    "f.perform_full_analysis()\n",
    "print FunctionPrinter(f, Opts(nums=True, alloc_only=True))"
   ]
  },
  {
   "cell_type": "markdown",
   "metadata": {},
   "source": [
    "# Cost of allocation\n",
    "\n",
    "At the end we calculate the cost of the register allocation which is our final results. Cost is computed per each instruction separately at summed up at the end. All the instructions have cost 1 at the beginning. The basic cost calculator multiplies the cost by 10^d, where d is a loop-nesting level and doubles the cost if it operates on memory."
   ]
  },
  {
   "cell_type": "code",
   "execution_count": 19,
   "metadata": {
    "collapsed": false
   },
   "outputs": [
    {
     "name": "stdout",
     "output_type": "stream",
     "text": [
      "  LOOP     COST               INSTR             \n",
      "   0       2.0      0: \u001b[34mreg0\u001b[0m = \u001b[31mload\u001b[0m \u001b[32mmem(v3)\u001b[0m    \n",
      "   0       1.0      1: \u001b[34mreg2\u001b[0m = \u001b[31micmp\u001b[0m \u001b[34mreg1\u001b[0m \u001b[34mreg0\u001b[0m \n",
      "   0       1.0      2: \u001b[1m\u001b[33mv4\u001b[0m = \u001b[31mbr\u001b[0m \u001b[34mreg2\u001b[0m bb3 bb2 \n",
      "   0       2.0      3: \u001b[34mreg0\u001b[0m = \u001b[31mload\u001b[0m \u001b[32mmem(v3)\u001b[0m    \n",
      "   0       1.0      4: \u001b[34mreg2\u001b[0m = \u001b[31mxor\u001b[0m \u001b[34mreg1\u001b[0m \u001b[34mreg0\u001b[0m \n",
      "   0       2.0      5: \u001b[34mreg0\u001b[0m = \u001b[31mload\u001b[0m \u001b[32mmem(v3)\u001b[0m    \n",
      "   0       1.0      6: \u001b[34mreg1\u001b[0m = \u001b[31mxor\u001b[0m \u001b[34mreg0\u001b[0m \u001b[34mreg2\u001b[0m \n",
      "   0       1.0      7: \u001b[34mreg2\u001b[0m = \u001b[31mxor\u001b[0m \u001b[34mreg2\u001b[0m \u001b[34mreg1\u001b[0m \n",
      "   0       1.0      8: \u001b[1m\u001b[33mv8\u001b[0m = \u001b[31mbr\u001b[0m bb3                 \n",
      "   0       1.0      9: \u001b[34mreg2\u001b[0m = \u001b[31mmov\u001b[0m \u001b[34mreg1\u001b[0m       \n",
      "   0       2.0     10: \u001b[34mreg1\u001b[0m = \u001b[31mload\u001b[0m \u001b[32mmem(v3)\u001b[0m    \n",
      "   0       1.0     11: \u001b[1m\u001b[33mv11\u001b[0m = \u001b[31mbr\u001b[0m bb4                 \n",
      "   0       2.0     12: \u001b[31mstore\u001b[0m \u001b[32mmem(v14)\u001b[0m \u001b[34mreg2\u001b[0m \n",
      "   1       10.0    13: \u001b[34mreg2\u001b[0m = \u001b[31micmp\u001b[0m \u001b[34mreg1\u001b[0m const \n",
      "   1       10.0    14: \u001b[1m\u001b[33mv16\u001b[0m = \u001b[31mbr\u001b[0m \u001b[34mreg2\u001b[0m bb6 bb5 \n",
      "   1       20.0    15: \u001b[34mreg0\u001b[0m = \u001b[31mload\u001b[0m \u001b[32mmem(v14)\u001b[0m   \n",
      "   1       10.0    16: \u001b[34mreg2\u001b[0m = \u001b[31msrem\u001b[0m \u001b[34mreg0\u001b[0m \u001b[34mreg1\u001b[0m \n",
      "   1       10.0    17: \u001b[1m\u001b[33mv17\u001b[0m = \u001b[31mbr\u001b[0m bb4                 \n",
      "   1       20.0    18: \u001b[31mstore\u001b[0m \u001b[32mmem(v14)\u001b[0m \u001b[34mreg1\u001b[0m \n",
      "   1       10.0    19: \u001b[34mreg1\u001b[0m = \u001b[31mmov\u001b[0m \u001b[34mreg2\u001b[0m       \n",
      "   0       2.0     20: \u001b[34mreg0\u001b[0m = \u001b[31mload\u001b[0m \u001b[32mmem(v14)\u001b[0m   \n",
      "   0       1.0     21: \u001b[1m\u001b[33mv18\u001b[0m = \u001b[31mret\u001b[0m \u001b[34mreg0\u001b[0m       \n",
      "\n",
      "FINAL COST: 111.0\n"
     ]
    }
   ],
   "source": [
    "bcost = cost.BasicCostCalculator()\n",
    "print CostPrinter(f, bcost).full()\n",
    "print \"FINAL COST:\", bcost.function_cost(f)"
   ]
  },
  {
   "cell_type": "markdown",
   "metadata": {},
   "source": [
    "## References\n",
    "[1] K. Cooper, L. Torczon. Engineering a Compiler. Second Edition, 2012 <br>\n",
    "[2] C. Wimmer and M. Franz. Linear Scan Register Allocation on SSA Form <br>\n",
    "[3] C. Wimmer and H. Mossenbock. Optimized interval splitting in a linear scan register allocator. <br>\n",
    "[4] S. Hack. Register Allocation for Programs in SSA Form, 2006."
   ]
  },
  {
   "cell_type": "code",
   "execution_count": null,
   "metadata": {
    "collapsed": true
   },
   "outputs": [],
   "source": []
  }
 ],
 "metadata": {
  "kernelspec": {
   "display_name": "Python 2",
   "language": "python",
   "name": "python2"
  },
  "language_info": {
   "codemirror_mode": {
    "name": "ipython",
    "version": 2
   },
   "file_extension": ".py",
   "mimetype": "text/x-python",
   "name": "python",
   "nbconvert_exporter": "python",
   "pygments_lexer": "ipython2",
   "version": "2.7.11"
  }
 },
 "nbformat": 4,
 "nbformat_minor": 0
}
